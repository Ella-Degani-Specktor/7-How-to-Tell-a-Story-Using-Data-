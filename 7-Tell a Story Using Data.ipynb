{
 "cells": [
  {
   "cell_type": "markdown",
   "id": "5e1b0b19",
   "metadata": {},
   "source": [
    "# TOC"
   ]
  },
  {
   "cell_type": "markdown",
   "id": "c3abac70",
   "metadata": {},
   "source": [
    "**1. [Project description](#1)**\n",
    "\n",
    "**2. [Data description](#2)**\n",
    "\n",
    "**3. [Library imports](#3)**\n",
    "\n",
    "**4. [CSV file read](#4)**\n",
    "\n",
    "**5. [General information and preprocessing](#5)**\n",
    "\n",
    "**6. [Data analysis](#6)**\n",
    "- 6.1 [Investigate the proportions of the various types of establishments. Plot a graph.](#6.1)  \n",
    "- 6.2 [Investigate the proportions of chain and nonchain establishments. Plot a graph.](#6.2)   \n",
    "- 6.3 [Which type of establishment is typically a chain?](#6.3)\n",
    "- 6.4 [What characterizes chains: many establishments with a small number of seats or a few establishments with a lot of seats?](#6.4)  \n",
    "- 6.5 [Determine the average number of seats for each type of restaurant. On average, which type of restaurant has the greatest number of seats? Plot graphs.](#6.5)  \n",
    "- 6.6 [Put the data on street names from the address column in a separate column.](#6.6)   \n",
    "- 6.7 [Plot a graph of the top ten streets by number of restaurants.](#6.7)  \n",
    "- 6.8 [Find the number of streets that only have one restaurant.](#6.8)   \n",
    "- 6.9 [For streets with a lot of restaurants, look at the distribution of the number of seats. What trends can you see?](#6.9)\n",
    "\n",
    "**7. [Conclusion](#7)**\n",
    "\n",
    "**8. [Presentation](#8)**"
   ]
  },
  {
   "cell_type": "markdown",
   "id": "62fdb25c",
   "metadata": {},
   "source": [
    "# Project description <a id=\"1\"></a>"
   ]
  },
  {
   "cell_type": "markdown",
   "id": "49810f0d",
   "metadata": {},
   "source": [
    "We’ve decided to open a small robot-run cafe in Los Angeles. The project is promising but expensive, so we and our partners decide to try to attract investors. \n",
    "They’re interested in the current market conditions—will we be able to maintain our success when the novelty of robot waiters wears off?\n",
    "\n",
    "We’re analytics gurus, so our partners have asked us to prepare some market research. We have open-source data on restaurants in LA."
   ]
  },
  {
   "cell_type": "markdown",
   "id": "7cff4272",
   "metadata": {},
   "source": [
    "# Data description <a id=\"2\"></a>"
   ]
  },
  {
   "cell_type": "markdown",
   "id": "8bfcc7d8",
   "metadata": {},
   "source": [
    "**rest_data**:\n",
    "- object_name — establishment name\n",
    "- chain — chain establishment (TRUE/FALSE)\n",
    "- object_type — establishment type\n",
    "- address — address\n",
    "- number — number of seats"
   ]
  },
  {
   "cell_type": "markdown",
   "id": "96acd059",
   "metadata": {},
   "source": [
    "# Library imports <a id=\"3\"></a>"
   ]
  },
  {
   "cell_type": "code",
   "execution_count": 28,
   "id": "e86e0067",
   "metadata": {
    "scrolled": false
   },
   "outputs": [],
   "source": [
    "#Libraries and project environment setup:\n",
    "\n",
    "##Pandas and Numpy for data preprocessing and manipulation\n",
    "import pandas as pd\n",
    "import numpy as np\n",
    "\n",
    "##Remove warnings\n",
    "import sys\n",
    "import warnings\n",
    "if not sys.warnoptions:\n",
    "   warnings.simplefilter(\"ignore\");\n",
    "\n",
    "##Scipy, Math and Random for SDA\n",
    "from scipy import stats as st\n",
    "import math\n",
    "import random\n",
    "\n",
    "##Matplotlib, Seaborn, Plotly, Altair and Streamlit for visualization\n",
    "import matplotlib.pyplot as plt\n",
    "from matplotlib.lines import Line2D\n",
    "from matplotlib import rcParams\n",
    "import seaborn as sns\n",
    "import plotly.express as px\n",
    "import plotly.graph_objects as go\n",
    "import plotly.graph_objects as go\n",
    "from plotly import tools\n",
    "import plotly.offline as py\n",
    "import altair as alt\n",
    "import streamlit as st\n",
    "\n",
    "#USAddress for handling USA addresses in DF\n",
    "import usaddress"
   ]
  },
  {
   "cell_type": "markdown",
   "id": "c853c468",
   "metadata": {},
   "source": [
    "# CSV file read <a id=\"4\"></a>"
   ]
  },
  {
   "cell_type": "code",
   "execution_count": 29,
   "id": "7e943730",
   "metadata": {},
   "outputs": [],
   "source": [
    "#We use try-except to handle unexpected errors\n",
    "try:\n",
    "    rest=pd.read_csv('/datasets/rest_data_us.csv')\n",
    "\n",
    "except:\n",
    "    rest=pd.read_csv('https://code.s3.yandex.net/datasets/rest_data_us.csv')"
   ]
  },
  {
   "cell_type": "markdown",
   "id": "858a2f45",
   "metadata": {},
   "source": [
    "# General information and preprocessing <a id=\"5\"></a>"
   ]
  },
  {
   "cell_type": "code",
   "execution_count": 30,
   "id": "41ba1b4f",
   "metadata": {},
   "outputs": [
    {
     "data": {
      "text/html": [
       "<div>\n",
       "<style scoped>\n",
       "    .dataframe tbody tr th:only-of-type {\n",
       "        vertical-align: middle;\n",
       "    }\n",
       "\n",
       "    .dataframe tbody tr th {\n",
       "        vertical-align: top;\n",
       "    }\n",
       "\n",
       "    .dataframe thead th {\n",
       "        text-align: right;\n",
       "    }\n",
       "</style>\n",
       "<table border=\"1\" class=\"dataframe\">\n",
       "  <thead>\n",
       "    <tr style=\"text-align: right;\">\n",
       "      <th></th>\n",
       "      <th>id</th>\n",
       "      <th>object_name</th>\n",
       "      <th>address</th>\n",
       "      <th>chain</th>\n",
       "      <th>object_type</th>\n",
       "      <th>number</th>\n",
       "    </tr>\n",
       "  </thead>\n",
       "  <tbody>\n",
       "    <tr>\n",
       "      <th>0</th>\n",
       "      <td>11786</td>\n",
       "      <td>HABITAT COFFEE SHOP</td>\n",
       "      <td>3708 N EAGLE ROCK BLVD</td>\n",
       "      <td>False</td>\n",
       "      <td>Cafe</td>\n",
       "      <td>26</td>\n",
       "    </tr>\n",
       "    <tr>\n",
       "      <th>1</th>\n",
       "      <td>11787</td>\n",
       "      <td>REILLY'S</td>\n",
       "      <td>100 WORLD WAY # 120</td>\n",
       "      <td>False</td>\n",
       "      <td>Restaurant</td>\n",
       "      <td>9</td>\n",
       "    </tr>\n",
       "    <tr>\n",
       "      <th>2</th>\n",
       "      <td>11788</td>\n",
       "      <td>STREET CHURROS</td>\n",
       "      <td>6801 HOLLYWOOD BLVD # 253</td>\n",
       "      <td>False</td>\n",
       "      <td>Fast Food</td>\n",
       "      <td>20</td>\n",
       "    </tr>\n",
       "    <tr>\n",
       "      <th>3</th>\n",
       "      <td>11789</td>\n",
       "      <td>TRINITI ECHO PARK</td>\n",
       "      <td>1814 W SUNSET BLVD</td>\n",
       "      <td>False</td>\n",
       "      <td>Restaurant</td>\n",
       "      <td>22</td>\n",
       "    </tr>\n",
       "    <tr>\n",
       "      <th>4</th>\n",
       "      <td>11790</td>\n",
       "      <td>POLLEN</td>\n",
       "      <td>2100 ECHO PARK AVE</td>\n",
       "      <td>False</td>\n",
       "      <td>Restaurant</td>\n",
       "      <td>20</td>\n",
       "    </tr>\n",
       "  </tbody>\n",
       "</table>\n",
       "</div>"
      ],
      "text/plain": [
       "      id          object_name                    address  chain object_type  \\\n",
       "0  11786  HABITAT COFFEE SHOP     3708 N EAGLE ROCK BLVD  False        Cafe   \n",
       "1  11787             REILLY'S        100 WORLD WAY # 120  False  Restaurant   \n",
       "2  11788       STREET CHURROS  6801 HOLLYWOOD BLVD # 253  False   Fast Food   \n",
       "3  11789    TRINITI ECHO PARK         1814 W SUNSET BLVD  False  Restaurant   \n",
       "4  11790               POLLEN         2100 ECHO PARK AVE  False  Restaurant   \n",
       "\n",
       "   number  \n",
       "0      26  \n",
       "1       9  \n",
       "2      20  \n",
       "3      22  \n",
       "4      20  "
      ]
     },
     "execution_count": 30,
     "metadata": {},
     "output_type": "execute_result"
    }
   ],
   "source": [
    "#First, in order to guarantee efficiency we immediately drop row-based duplicates\n",
    "rest.drop_duplicates(inplace=True,keep='first')\n",
    "rest.reset_index(drop=True, inplace=True)\n",
    "\n",
    "#Print the first five entries in the dataframe\n",
    "rest.head()"
   ]
  },
  {
   "cell_type": "markdown",
   "id": "51eddff5",
   "metadata": {},
   "source": [
    "No visible NaN values."
   ]
  },
  {
   "cell_type": "code",
   "execution_count": 31,
   "id": "18080ace",
   "metadata": {
    "scrolled": true
   },
   "outputs": [
    {
     "data": {
      "text/html": [
       "<div>\n",
       "<style scoped>\n",
       "    .dataframe tbody tr th:only-of-type {\n",
       "        vertical-align: middle;\n",
       "    }\n",
       "\n",
       "    .dataframe tbody tr th {\n",
       "        vertical-align: top;\n",
       "    }\n",
       "\n",
       "    .dataframe thead th {\n",
       "        text-align: right;\n",
       "    }\n",
       "</style>\n",
       "<table border=\"1\" class=\"dataframe\">\n",
       "  <thead>\n",
       "    <tr style=\"text-align: right;\">\n",
       "      <th></th>\n",
       "      <th>id</th>\n",
       "      <th>object_name</th>\n",
       "      <th>address</th>\n",
       "      <th>chain</th>\n",
       "      <th>object_type</th>\n",
       "      <th>number</th>\n",
       "    </tr>\n",
       "  </thead>\n",
       "  <tbody>\n",
       "  </tbody>\n",
       "</table>\n",
       "</div>"
      ],
      "text/plain": [
       "Empty DataFrame\n",
       "Columns: [id, object_name, address, chain, object_type, number]\n",
       "Index: []"
      ]
     },
     "metadata": {},
     "output_type": "display_data"
    },
    {
     "data": {
      "text/html": [
       "<div>\n",
       "<style scoped>\n",
       "    .dataframe tbody tr th:only-of-type {\n",
       "        vertical-align: middle;\n",
       "    }\n",
       "\n",
       "    .dataframe tbody tr th {\n",
       "        vertical-align: top;\n",
       "    }\n",
       "\n",
       "    .dataframe thead th {\n",
       "        text-align: right;\n",
       "    }\n",
       "</style>\n",
       "<table border=\"1\" class=\"dataframe\">\n",
       "  <thead>\n",
       "    <tr style=\"text-align: right;\">\n",
       "      <th></th>\n",
       "      <th>id</th>\n",
       "      <th>object_name</th>\n",
       "      <th>address</th>\n",
       "      <th>chain</th>\n",
       "      <th>object_type</th>\n",
       "      <th>number</th>\n",
       "    </tr>\n",
       "  </thead>\n",
       "  <tbody>\n",
       "  </tbody>\n",
       "</table>\n",
       "</div>"
      ],
      "text/plain": [
       "Empty DataFrame\n",
       "Columns: [id, object_name, address, chain, object_type, number]\n",
       "Index: []"
      ]
     },
     "execution_count": 31,
     "metadata": {},
     "output_type": "execute_result"
    }
   ],
   "source": [
    "#Object names to uppercase\n",
    "rest['object_name']=rest['object_name'].str.upper()\n",
    "\n",
    "#Checking to be sure there aren't any additional duplicates\n",
    "rest.drop(['id'], axis=1).duplicated().sum()\n",
    "display(rest[rest[['object_name', 'address']].duplicated() == True])\n",
    "\n",
    "#Check if there are any error number of seats values\n",
    "rest[rest['number']<0]"
   ]
  },
  {
   "cell_type": "markdown",
   "id": "eb3fea15",
   "metadata": {},
   "source": [
    "None."
   ]
  },
  {
   "cell_type": "code",
   "execution_count": 32,
   "id": "6a4e33ed",
   "metadata": {},
   "outputs": [
    {
     "name": "stdout",
     "output_type": "stream",
     "text": [
      "<class 'pandas.core.frame.DataFrame'>\n",
      "RangeIndex: 9651 entries, 0 to 9650\n",
      "Data columns (total 6 columns):\n",
      " #   Column       Non-Null Count  Dtype \n",
      "---  ------       --------------  ----- \n",
      " 0   id           9651 non-null   int64 \n",
      " 1   object_name  9651 non-null   object\n",
      " 2   address      9651 non-null   object\n",
      " 3   chain        9648 non-null   object\n",
      " 4   object_type  9651 non-null   object\n",
      " 5   number       9651 non-null   int64 \n",
      "dtypes: int64(2), object(4)\n",
      "memory usage: 452.5+ KB\n"
     ]
    }
   ],
   "source": [
    "#General file examination\n",
    "rest.info()"
   ]
  },
  {
   "cell_type": "markdown",
   "id": "ad2f5ff1",
   "metadata": {},
   "source": [
    "- Results show column names are accurate to the project data description.\n",
    "- Dataset includes 9651 entries and 6 columns.\n",
    "- There are 3 missing values from the chain column.\n",
    "- id and number- quantitative values as integers, and the rest- qualitative as objects."
   ]
  },
  {
   "cell_type": "code",
   "execution_count": 33,
   "id": "d6d4febd",
   "metadata": {},
   "outputs": [
    {
     "data": {
      "text/plain": [
       "0.03"
      ]
     },
     "execution_count": 33,
     "metadata": {},
     "output_type": "execute_result"
    }
   ],
   "source": [
    "#Checking missing values amount in percentage\n",
    "rest.chain.isna().sum()*100/len(rest)\n",
    "pd.DataFrame(round((rest.isna().mean()*100),2)).style.background_gradient('coolwarm')\n",
    "round(rest.chain.isna().mean()*100,2)"
   ]
  },
  {
   "cell_type": "code",
   "execution_count": 34,
   "id": "435caf3f",
   "metadata": {
    "scrolled": true
   },
   "outputs": [
    {
     "name": "stdout",
     "output_type": "stream",
     "text": [
      "<class 'pandas.core.frame.DataFrame'>\n",
      "RangeIndex: 9648 entries, 0 to 9647\n",
      "Data columns (total 7 columns):\n",
      " #   Column       Non-Null Count  Dtype \n",
      "---  ------       --------------  ----- \n",
      " 0   index        9648 non-null   int64 \n",
      " 1   id           9648 non-null   int64 \n",
      " 2   object_name  9648 non-null   object\n",
      " 3   address      9648 non-null   object\n",
      " 4   chain        9648 non-null   object\n",
      " 5   object_type  9648 non-null   object\n",
      " 6   number       9648 non-null   int64 \n",
      "dtypes: int64(3), object(4)\n",
      "memory usage: 527.8+ KB\n"
     ]
    }
   ],
   "source": [
    "#By rule of thumb, we don't drop more than 5%-10% of data. Since only 0.03% is, we now drop these entries\n",
    "rest=rest.dropna().reset_index()\n",
    "rest.info()"
   ]
  },
  {
   "cell_type": "markdown",
   "id": "ccd7137d",
   "metadata": {},
   "source": [
    "Done."
   ]
  },
  {
   "cell_type": "code",
   "execution_count": 35,
   "id": "c41e33bf",
   "metadata": {
    "scrolled": true
   },
   "outputs": [
    {
     "data": {
      "text/html": [
       "<div>\n",
       "<style scoped>\n",
       "    .dataframe tbody tr th:only-of-type {\n",
       "        vertical-align: middle;\n",
       "    }\n",
       "\n",
       "    .dataframe tbody tr th {\n",
       "        vertical-align: top;\n",
       "    }\n",
       "\n",
       "    .dataframe thead th {\n",
       "        text-align: right;\n",
       "    }\n",
       "</style>\n",
       "<table border=\"1\" class=\"dataframe\">\n",
       "  <thead>\n",
       "    <tr style=\"text-align: right;\">\n",
       "      <th></th>\n",
       "      <th>index</th>\n",
       "      <th>id</th>\n",
       "      <th>object_name</th>\n",
       "      <th>address</th>\n",
       "      <th>chain</th>\n",
       "      <th>object_type</th>\n",
       "      <th>number</th>\n",
       "    </tr>\n",
       "  </thead>\n",
       "  <tbody>\n",
       "    <tr>\n",
       "      <th>count</th>\n",
       "      <td>9648.000000</td>\n",
       "      <td>9648.000000</td>\n",
       "      <td>9648</td>\n",
       "      <td>9648</td>\n",
       "      <td>9648</td>\n",
       "      <td>9648</td>\n",
       "      <td>9648.000000</td>\n",
       "    </tr>\n",
       "    <tr>\n",
       "      <th>unique</th>\n",
       "      <td>NaN</td>\n",
       "      <td>NaN</td>\n",
       "      <td>8669</td>\n",
       "      <td>8514</td>\n",
       "      <td>2</td>\n",
       "      <td>6</td>\n",
       "      <td>NaN</td>\n",
       "    </tr>\n",
       "    <tr>\n",
       "      <th>top</th>\n",
       "      <td>NaN</td>\n",
       "      <td>NaN</td>\n",
       "      <td>THE COFFEE BEAN &amp; TEA LEAF</td>\n",
       "      <td>3607 TROUSDALE PKWY</td>\n",
       "      <td>False</td>\n",
       "      <td>Restaurant</td>\n",
       "      <td>NaN</td>\n",
       "    </tr>\n",
       "    <tr>\n",
       "      <th>freq</th>\n",
       "      <td>NaN</td>\n",
       "      <td>NaN</td>\n",
       "      <td>47</td>\n",
       "      <td>11</td>\n",
       "      <td>5972</td>\n",
       "      <td>7253</td>\n",
       "      <td>NaN</td>\n",
       "    </tr>\n",
       "    <tr>\n",
       "      <th>mean</th>\n",
       "      <td>4824.056385</td>\n",
       "      <td>16610.056385</td>\n",
       "      <td>NaN</td>\n",
       "      <td>NaN</td>\n",
       "      <td>NaN</td>\n",
       "      <td>NaN</td>\n",
       "      <td>43.703566</td>\n",
       "    </tr>\n",
       "    <tr>\n",
       "      <th>std</th>\n",
       "      <td>2786.049701</td>\n",
       "      <td>2786.049701</td>\n",
       "      <td>NaN</td>\n",
       "      <td>NaN</td>\n",
       "      <td>NaN</td>\n",
       "      <td>NaN</td>\n",
       "      <td>47.627252</td>\n",
       "    </tr>\n",
       "    <tr>\n",
       "      <th>min</th>\n",
       "      <td>0.000000</td>\n",
       "      <td>11786.000000</td>\n",
       "      <td>NaN</td>\n",
       "      <td>NaN</td>\n",
       "      <td>NaN</td>\n",
       "      <td>NaN</td>\n",
       "      <td>1.000000</td>\n",
       "    </tr>\n",
       "    <tr>\n",
       "      <th>25%</th>\n",
       "      <td>2411.750000</td>\n",
       "      <td>14197.750000</td>\n",
       "      <td>NaN</td>\n",
       "      <td>NaN</td>\n",
       "      <td>NaN</td>\n",
       "      <td>NaN</td>\n",
       "      <td>14.000000</td>\n",
       "    </tr>\n",
       "    <tr>\n",
       "      <th>50%</th>\n",
       "      <td>4823.500000</td>\n",
       "      <td>16609.500000</td>\n",
       "      <td>NaN</td>\n",
       "      <td>NaN</td>\n",
       "      <td>NaN</td>\n",
       "      <td>NaN</td>\n",
       "      <td>27.000000</td>\n",
       "    </tr>\n",
       "    <tr>\n",
       "      <th>75%</th>\n",
       "      <td>7235.250000</td>\n",
       "      <td>19021.250000</td>\n",
       "      <td>NaN</td>\n",
       "      <td>NaN</td>\n",
       "      <td>NaN</td>\n",
       "      <td>NaN</td>\n",
       "      <td>46.000000</td>\n",
       "    </tr>\n",
       "    <tr>\n",
       "      <th>max</th>\n",
       "      <td>9650.000000</td>\n",
       "      <td>21436.000000</td>\n",
       "      <td>NaN</td>\n",
       "      <td>NaN</td>\n",
       "      <td>NaN</td>\n",
       "      <td>NaN</td>\n",
       "      <td>229.000000</td>\n",
       "    </tr>\n",
       "  </tbody>\n",
       "</table>\n",
       "</div>"
      ],
      "text/plain": [
       "              index            id                 object_name  \\\n",
       "count   9648.000000   9648.000000                        9648   \n",
       "unique          NaN           NaN                        8669   \n",
       "top             NaN           NaN  THE COFFEE BEAN & TEA LEAF   \n",
       "freq            NaN           NaN                          47   \n",
       "mean    4824.056385  16610.056385                         NaN   \n",
       "std     2786.049701   2786.049701                         NaN   \n",
       "min        0.000000  11786.000000                         NaN   \n",
       "25%     2411.750000  14197.750000                         NaN   \n",
       "50%     4823.500000  16609.500000                         NaN   \n",
       "75%     7235.250000  19021.250000                         NaN   \n",
       "max     9650.000000  21436.000000                         NaN   \n",
       "\n",
       "                    address  chain object_type       number  \n",
       "count                  9648   9648        9648  9648.000000  \n",
       "unique                 8514      2           6          NaN  \n",
       "top     3607 TROUSDALE PKWY  False  Restaurant          NaN  \n",
       "freq                     11   5972        7253          NaN  \n",
       "mean                    NaN    NaN         NaN    43.703566  \n",
       "std                     NaN    NaN         NaN    47.627252  \n",
       "min                     NaN    NaN         NaN     1.000000  \n",
       "25%                     NaN    NaN         NaN    14.000000  \n",
       "50%                     NaN    NaN         NaN    27.000000  \n",
       "75%                     NaN    NaN         NaN    46.000000  \n",
       "max                     NaN    NaN         NaN   229.000000  "
      ]
     },
     "execution_count": 35,
     "metadata": {},
     "output_type": "execute_result"
    }
   ],
   "source": [
    "#Integrated display of the columns\n",
    "rest.describe(include='all')"
   ]
  },
  {
   "cell_type": "markdown",
   "id": "ef974ea3",
   "metadata": {},
   "source": [
    "All seems in order."
   ]
  },
  {
   "cell_type": "code",
   "execution_count": 36,
   "id": "c49dd6e8",
   "metadata": {},
   "outputs": [
    {
     "data": {
      "text/html": [
       "<div>\n",
       "<style scoped>\n",
       "    .dataframe tbody tr th:only-of-type {\n",
       "        vertical-align: middle;\n",
       "    }\n",
       "\n",
       "    .dataframe tbody tr th {\n",
       "        vertical-align: top;\n",
       "    }\n",
       "\n",
       "    .dataframe thead th {\n",
       "        text-align: right;\n",
       "    }\n",
       "</style>\n",
       "<table border=\"1\" class=\"dataframe\">\n",
       "  <thead>\n",
       "    <tr style=\"text-align: right;\">\n",
       "      <th></th>\n",
       "      <th>index</th>\n",
       "      <th>id</th>\n",
       "      <th>object_name</th>\n",
       "      <th>address</th>\n",
       "      <th>chain</th>\n",
       "      <th>object_type</th>\n",
       "      <th>number</th>\n",
       "      <th>address_check</th>\n",
       "    </tr>\n",
       "  </thead>\n",
       "  <tbody>\n",
       "    <tr>\n",
       "      <th>1888</th>\n",
       "      <td>1888</td>\n",
       "      <td>13674</td>\n",
       "      <td>MAGDALENO DEBBIE</td>\n",
       "      <td>OLVERA ST E17</td>\n",
       "      <td>False</td>\n",
       "      <td>Restaurant</td>\n",
       "      <td>15</td>\n",
       "      <td>no street or number</td>\n",
       "    </tr>\n",
       "    <tr>\n",
       "      <th>3719</th>\n",
       "      <td>3719</td>\n",
       "      <td>15505</td>\n",
       "      <td>LAS ANITAS</td>\n",
       "      <td>OLVERA ST 26</td>\n",
       "      <td>False</td>\n",
       "      <td>Restaurant</td>\n",
       "      <td>38</td>\n",
       "      <td>no street or number</td>\n",
       "    </tr>\n",
       "    <tr>\n",
       "      <th>7003</th>\n",
       "      <td>7003</td>\n",
       "      <td>18789</td>\n",
       "      <td>D.K. DONUTS</td>\n",
       "      <td>1033 1/2 LOS ANGELES ST</td>\n",
       "      <td>False</td>\n",
       "      <td>Fast Food</td>\n",
       "      <td>8</td>\n",
       "      <td>no street or number</td>\n",
       "    </tr>\n",
       "    <tr>\n",
       "      <th>7281</th>\n",
       "      <td>7281</td>\n",
       "      <td>19067</td>\n",
       "      <td>CIELITO LINDO</td>\n",
       "      <td>OLVERA ST 23</td>\n",
       "      <td>False</td>\n",
       "      <td>Restaurant</td>\n",
       "      <td>2</td>\n",
       "      <td>no street or number</td>\n",
       "    </tr>\n",
       "    <tr>\n",
       "      <th>7319</th>\n",
       "      <td>7319</td>\n",
       "      <td>19105</td>\n",
       "      <td>JUANITA'S CAFE</td>\n",
       "      <td>OLVERA ST 20</td>\n",
       "      <td>False</td>\n",
       "      <td>Restaurant</td>\n",
       "      <td>12</td>\n",
       "      <td>no street or number</td>\n",
       "    </tr>\n",
       "    <tr>\n",
       "      <th>7321</th>\n",
       "      <td>7321</td>\n",
       "      <td>19107</td>\n",
       "      <td>KITTY'S SNOW CONES</td>\n",
       "      <td>OLVERA ST 2</td>\n",
       "      <td>False</td>\n",
       "      <td>Restaurant</td>\n",
       "      <td>11</td>\n",
       "      <td>no street or number</td>\n",
       "    </tr>\n",
       "    <tr>\n",
       "      <th>7327</th>\n",
       "      <td>7327</td>\n",
       "      <td>19113</td>\n",
       "      <td>LA NOCHE BUENA</td>\n",
       "      <td>OLVERA ST E8</td>\n",
       "      <td>False</td>\n",
       "      <td>Restaurant</td>\n",
       "      <td>1</td>\n",
       "      <td>no street or number</td>\n",
       "    </tr>\n",
       "    <tr>\n",
       "      <th>7437</th>\n",
       "      <td>7438</td>\n",
       "      <td>19224</td>\n",
       "      <td>LA GOLONDRINA</td>\n",
       "      <td>OLVERA ST W17</td>\n",
       "      <td>False</td>\n",
       "      <td>Restaurant</td>\n",
       "      <td>204</td>\n",
       "      <td>no street or number</td>\n",
       "    </tr>\n",
       "    <tr>\n",
       "      <th>7739</th>\n",
       "      <td>7741</td>\n",
       "      <td>19527</td>\n",
       "      <td>RODOLFO'S RESTAURANT</td>\n",
       "      <td>OLVERA ST 5</td>\n",
       "      <td>True</td>\n",
       "      <td>Restaurant</td>\n",
       "      <td>4</td>\n",
       "      <td>no street or number</td>\n",
       "    </tr>\n",
       "  </tbody>\n",
       "</table>\n",
       "</div>"
      ],
      "text/plain": [
       "      index     id           object_name                  address  chain  \\\n",
       "1888   1888  13674      MAGDALENO DEBBIE            OLVERA ST E17  False   \n",
       "3719   3719  15505            LAS ANITAS             OLVERA ST 26  False   \n",
       "7003   7003  18789           D.K. DONUTS  1033 1/2 LOS ANGELES ST  False   \n",
       "7281   7281  19067         CIELITO LINDO             OLVERA ST 23  False   \n",
       "7319   7319  19105        JUANITA'S CAFE             OLVERA ST 20  False   \n",
       "7321   7321  19107    KITTY'S SNOW CONES              OLVERA ST 2  False   \n",
       "7327   7327  19113        LA NOCHE BUENA             OLVERA ST E8  False   \n",
       "7437   7438  19224         LA GOLONDRINA            OLVERA ST W17  False   \n",
       "7739   7741  19527  RODOLFO'S RESTAURANT              OLVERA ST 5   True   \n",
       "\n",
       "     object_type  number        address_check  \n",
       "1888  Restaurant      15  no street or number  \n",
       "3719  Restaurant      38  no street or number  \n",
       "7003   Fast Food       8  no street or number  \n",
       "7281  Restaurant       2  no street or number  \n",
       "7319  Restaurant      12  no street or number  \n",
       "7321  Restaurant      11  no street or number  \n",
       "7327  Restaurant       1  no street or number  \n",
       "7437  Restaurant     204  no street or number  \n",
       "7739  Restaurant       4  no street or number  "
      ]
     },
     "execution_count": 36,
     "metadata": {},
     "output_type": "execute_result"
    }
   ],
   "source": [
    "#Avoiding StreetName errors by running a loop to check the addresses without the street or number\n",
    "def cleaning_check(raw):\n",
    "    raw_address=usaddress.parse(raw)\n",
    "    dict_address={}\n",
    "    for i in raw_address:\n",
    "        dict_address.update({i[1]:i[0]})\n",
    "    if 'StreetName' in dict_address.keys() and 'AddressNumber' in dict_address.keys():\n",
    "        clean_adress=dict_address['AddressNumber']+\",\"+str(dict_address['StreetName'])\n",
    "        return clean_adress\n",
    "    else:\n",
    "        return 'no street or number'\n",
    "rest['address_check']=rest.address.apply(cleaning_check)\n",
    "\n",
    "#Checking if any streets are problematic\n",
    "rest[rest['address_check']=='no street or number']"
   ]
  },
  {
   "cell_type": "code",
   "execution_count": 37,
   "id": "d1e9a46c",
   "metadata": {},
   "outputs": [
    {
     "name": "stdout",
     "output_type": "stream",
     "text": [
      "[('OLVERA', 'PlaceName'), ('ST', 'StateName'), ('E17', 'ZipCode')]\n",
      "\n",
      "[('1033', 'AddressNumber'), ('1/2', 'AddressNumberSuffix'), ('LOS', 'PlaceName'), ('ANGELES', 'PlaceName'), ('ST', 'StateName')]\n"
     ]
    }
   ],
   "source": [
    "#Checking how the library handles these two streets- Olvera and 1033 1/2 LOS ANGELES ST. \n",
    "print(usaddress.parse(rest.iloc[1888]['address']))\n",
    "print('')\n",
    "print(usaddress.parse(rest.iloc[7003]['address']))"
   ]
  },
  {
   "cell_type": "code",
   "execution_count": 38,
   "id": "d509c8a4",
   "metadata": {},
   "outputs": [
    {
     "data": {
      "text/html": [
       "<div>\n",
       "<style scoped>\n",
       "    .dataframe tbody tr th:only-of-type {\n",
       "        vertical-align: middle;\n",
       "    }\n",
       "\n",
       "    .dataframe tbody tr th {\n",
       "        vertical-align: top;\n",
       "    }\n",
       "\n",
       "    .dataframe thead th {\n",
       "        text-align: right;\n",
       "    }\n",
       "</style>\n",
       "<table border=\"1\" class=\"dataframe\">\n",
       "  <thead>\n",
       "    <tr style=\"text-align: right;\">\n",
       "      <th></th>\n",
       "      <th>index</th>\n",
       "      <th>id</th>\n",
       "      <th>object_name</th>\n",
       "      <th>address</th>\n",
       "      <th>chain</th>\n",
       "      <th>object_type</th>\n",
       "      <th>number</th>\n",
       "      <th>clean_address</th>\n",
       "    </tr>\n",
       "  </thead>\n",
       "  <tbody>\n",
       "    <tr>\n",
       "      <th>0</th>\n",
       "      <td>0</td>\n",
       "      <td>11786</td>\n",
       "      <td>HABITAT COFFEE SHOP</td>\n",
       "      <td>3708 N EAGLE ROCK BLVD</td>\n",
       "      <td>False</td>\n",
       "      <td>Cafe</td>\n",
       "      <td>26</td>\n",
       "      <td>3708 ROCK, Los Angeles,USA</td>\n",
       "    </tr>\n",
       "    <tr>\n",
       "      <th>1</th>\n",
       "      <td>1</td>\n",
       "      <td>11787</td>\n",
       "      <td>REILLY'S</td>\n",
       "      <td>100 WORLD WAY # 120</td>\n",
       "      <td>False</td>\n",
       "      <td>Restaurant</td>\n",
       "      <td>9</td>\n",
       "      <td>100 WORLD, Los Angeles,USA</td>\n",
       "    </tr>\n",
       "    <tr>\n",
       "      <th>2</th>\n",
       "      <td>2</td>\n",
       "      <td>11788</td>\n",
       "      <td>STREET CHURROS</td>\n",
       "      <td>6801 HOLLYWOOD BLVD # 253</td>\n",
       "      <td>False</td>\n",
       "      <td>Fast Food</td>\n",
       "      <td>20</td>\n",
       "      <td>6801 HOLLYWOOD, Los Angeles,USA</td>\n",
       "    </tr>\n",
       "    <tr>\n",
       "      <th>3</th>\n",
       "      <td>3</td>\n",
       "      <td>11789</td>\n",
       "      <td>TRINITI ECHO PARK</td>\n",
       "      <td>1814 W SUNSET BLVD</td>\n",
       "      <td>False</td>\n",
       "      <td>Restaurant</td>\n",
       "      <td>22</td>\n",
       "      <td>1814 SUNSET, Los Angeles,USA</td>\n",
       "    </tr>\n",
       "    <tr>\n",
       "      <th>4</th>\n",
       "      <td>4</td>\n",
       "      <td>11790</td>\n",
       "      <td>POLLEN</td>\n",
       "      <td>2100 ECHO PARK AVE</td>\n",
       "      <td>False</td>\n",
       "      <td>Restaurant</td>\n",
       "      <td>20</td>\n",
       "      <td>2100 PARK, Los Angeles,USA</td>\n",
       "    </tr>\n",
       "    <tr>\n",
       "      <th>...</th>\n",
       "      <td>...</td>\n",
       "      <td>...</td>\n",
       "      <td>...</td>\n",
       "      <td>...</td>\n",
       "      <td>...</td>\n",
       "      <td>...</td>\n",
       "      <td>...</td>\n",
       "      <td>...</td>\n",
       "    </tr>\n",
       "    <tr>\n",
       "      <th>9643</th>\n",
       "      <td>9646</td>\n",
       "      <td>21432</td>\n",
       "      <td>HALL OF JUSTICE</td>\n",
       "      <td>217 W TEMPLE AVE</td>\n",
       "      <td>False</td>\n",
       "      <td>Restaurant</td>\n",
       "      <td>122</td>\n",
       "      <td>217 TEMPLE, Los Angeles,USA</td>\n",
       "    </tr>\n",
       "    <tr>\n",
       "      <th>9644</th>\n",
       "      <td>9647</td>\n",
       "      <td>21433</td>\n",
       "      <td>FIN-MELROSE</td>\n",
       "      <td>5750 MELROSE AVE</td>\n",
       "      <td>False</td>\n",
       "      <td>Restaurant</td>\n",
       "      <td>93</td>\n",
       "      <td>5750 MELROSE, Los Angeles,USA</td>\n",
       "    </tr>\n",
       "    <tr>\n",
       "      <th>9645</th>\n",
       "      <td>9648</td>\n",
       "      <td>21434</td>\n",
       "      <td>JUICY WINGZ</td>\n",
       "      <td>6741 HOLLYWOOD BLVD</td>\n",
       "      <td>True</td>\n",
       "      <td>Fast Food</td>\n",
       "      <td>15</td>\n",
       "      <td>6741 HOLLYWOOD, Los Angeles,USA</td>\n",
       "    </tr>\n",
       "    <tr>\n",
       "      <th>9646</th>\n",
       "      <td>9649</td>\n",
       "      <td>21435</td>\n",
       "      <td>MEDIDATE COFFEE</td>\n",
       "      <td>548 S SPRING ST STE 100</td>\n",
       "      <td>False</td>\n",
       "      <td>Cafe</td>\n",
       "      <td>6</td>\n",
       "      <td>548 SPRING, Los Angeles,USA</td>\n",
       "    </tr>\n",
       "    <tr>\n",
       "      <th>9647</th>\n",
       "      <td>9650</td>\n",
       "      <td>21436</td>\n",
       "      <td>CAFE SPROUTS</td>\n",
       "      <td>1300 S SAN PEDRO ST STE 111</td>\n",
       "      <td>True</td>\n",
       "      <td>Restaurant</td>\n",
       "      <td>19</td>\n",
       "      <td>1300 PEDRO, Los Angeles,USA</td>\n",
       "    </tr>\n",
       "  </tbody>\n",
       "</table>\n",
       "<p>9648 rows × 8 columns</p>\n",
       "</div>"
      ],
      "text/plain": [
       "      index     id          object_name                      address  chain  \\\n",
       "0         0  11786  HABITAT COFFEE SHOP       3708 N EAGLE ROCK BLVD  False   \n",
       "1         1  11787             REILLY'S          100 WORLD WAY # 120  False   \n",
       "2         2  11788       STREET CHURROS    6801 HOLLYWOOD BLVD # 253  False   \n",
       "3         3  11789    TRINITI ECHO PARK           1814 W SUNSET BLVD  False   \n",
       "4         4  11790               POLLEN           2100 ECHO PARK AVE  False   \n",
       "...     ...    ...                  ...                          ...    ...   \n",
       "9643   9646  21432      HALL OF JUSTICE             217 W TEMPLE AVE  False   \n",
       "9644   9647  21433          FIN-MELROSE             5750 MELROSE AVE  False   \n",
       "9645   9648  21434          JUICY WINGZ          6741 HOLLYWOOD BLVD   True   \n",
       "9646   9649  21435      MEDIDATE COFFEE      548 S SPRING ST STE 100  False   \n",
       "9647   9650  21436         CAFE SPROUTS  1300 S SAN PEDRO ST STE 111   True   \n",
       "\n",
       "     object_type  number                    clean_address  \n",
       "0           Cafe      26       3708 ROCK, Los Angeles,USA  \n",
       "1     Restaurant       9       100 WORLD, Los Angeles,USA  \n",
       "2      Fast Food      20  6801 HOLLYWOOD, Los Angeles,USA  \n",
       "3     Restaurant      22     1814 SUNSET, Los Angeles,USA  \n",
       "4     Restaurant      20       2100 PARK, Los Angeles,USA  \n",
       "...          ...     ...                              ...  \n",
       "9643  Restaurant     122      217 TEMPLE, Los Angeles,USA  \n",
       "9644  Restaurant      93    5750 MELROSE, Los Angeles,USA  \n",
       "9645   Fast Food      15  6741 HOLLYWOOD, Los Angeles,USA  \n",
       "9646        Cafe       6      548 SPRING, Los Angeles,USA  \n",
       "9647  Restaurant      19      1300 PEDRO, Los Angeles,USA  \n",
       "\n",
       "[9648 rows x 8 columns]"
      ]
     },
     "execution_count": 38,
     "metadata": {},
     "output_type": "execute_result"
    }
   ],
   "source": [
    "#Running another loop to fix the library considering OLVERA and LOS ANGELES as PlaceNames instead of streets \n",
    "def cleaning_final(raw):\n",
    "    if raw.startswith('OLVERA'):\n",
    "        clean_adress='OLVERA,Los Angeles,USA'\n",
    "    elif raw.startswith('1033 1/2 LOS ANGELES'):\n",
    "        clean_adress='1033 1/2 LOS ANGELES ST,Los Angeles,USA'\n",
    "    else:\n",
    "        raw_address=usaddress.parse(raw)\n",
    "        dict_address={}\n",
    "        for i in raw_address:\n",
    "            dict_address.update({i[1]:i[0]})\n",
    "        clean_adress=dict_address['AddressNumber']+\" \"+str(dict_address['StreetName'])+str(', Los Angeles,USA')\n",
    "    return clean_adress\n",
    "\n",
    "rest['clean_address']=rest.address.apply(cleaning_final)\n",
    "\n",
    "#Dropping check column\n",
    "rest=rest.drop(columns='address_check')\n",
    "rest"
   ]
  },
  {
   "cell_type": "markdown",
   "id": "bf006918",
   "metadata": {},
   "source": [
    "All good."
   ]
  },
  {
   "cell_type": "markdown",
   "id": "69bfcd40",
   "metadata": {},
   "source": [
    "# Data analysis <a id=\"6\"></a>"
   ]
  },
  {
   "cell_type": "markdown",
   "id": "15e42099",
   "metadata": {},
   "source": [
    "## 1) Investigate the proportions of the various types of establishments. Plot a graph. <a id=\"6.1\"></a>"
   ]
  },
  {
   "cell_type": "code",
   "execution_count": 39,
   "id": "e4a8aa4b",
   "metadata": {
    "scrolled": true
   },
   "outputs": [
    {
     "data": {
      "image/png": "[encoded data removed]",
      "text/plain": [
       "<Figure size 360x360 with 1 Axes>"
      ]
     },
     "metadata": {},
     "output_type": "display_data"
    }
   ],
   "source": [
    "#Creating DF of establishment types\n",
    "estab=rest.groupby('object_type')['id'].count().sort_values()\n",
    "\n",
    "#Plotting pie chart to display proportions of establishment types\n",
    "rcParams[\"figure.figsize\"] = (5,5)\n",
    "plt.pie(x=estab, autopct=\"%.1f%%\", explode=[0.05]*6, labels=estab.keys())\n",
    "plt.title(\"Establishment types\")\n",
    "plt.legend(bbox_to_anchor=(0,1))\n",
    "\n",
    "plt.savefig(\"types.png\");"
   ]
  },
  {
   "cell_type": "markdown",
   "id": "07889f8f",
   "metadata": {},
   "source": [
    "Restaurants are in the lead in LA (75.2%), followed by fast food (11%), cafés (4.5%), pizza (3.3%), bars (3%), and bakeries (2.9%)."
   ]
  },
  {
   "cell_type": "markdown",
   "id": "4f73cda8",
   "metadata": {},
   "source": [
    "## 2) Investigate the proportions of chain and nonchain establishments. Plot a graph. <a id=\"6.2\"></a>"
   ]
  },
  {
   "cell_type": "code",
   "execution_count": 40,
   "id": "53b8822a",
   "metadata": {},
   "outputs": [
    {
     "data": {
      "image/png": "[encoded data removed]",
      "text/plain": [
       "<Figure size 360x360 with 1 Axes>"
      ]
     },
     "metadata": {},
     "output_type": "display_data"
    }
   ],
   "source": [
    "#Creating DF of chain and non-chain establishments\n",
    "chain = rest.groupby('chain')[\"object_name\"].count()\n",
    "\n",
    "#Plotting pie chart to display proportions of chain and nonchain establishments\n",
    "rcParams[\"figure.figsize\"] = (5,5)\n",
    "plt.pie(x=chain, autopct=\"%.1f%%\",explode=[0.03]*2, labels=['Non-Chain','Chain'])\n",
    "plt.title(\"Chain and non-chain establishments\")\n",
    "plt.legend(bbox_to_anchor=(0,1))\n",
    "\n",
    "plt.savefig(\"chain.png\");"
   ]
  },
  {
   "cell_type": "markdown",
   "id": "b07aee86",
   "metadata": {},
   "source": [
    "61.9% of establishments in LA are non-chain, while 38.1% are chains.\n",
    "This makes sense since most establishments are restaurants, most likely original and unique ones.\n",
    "We see bakery, café, and fast food establishments are typically chains while pizza, restaurants and bars are mostly non-chains."
   ]
  },
  {
   "cell_type": "markdown",
   "id": "981f2522",
   "metadata": {},
   "source": [
    "## 3) Which type of establishment is typically a chain? <a id=\"6.3\"></a>"
   ]
  },
  {
   "cell_type": "code",
   "execution_count": 41,
   "id": "55e2cb20",
   "metadata": {},
   "outputs": [
    {
     "data": {
      "image/png": "[encoded data removed]",
      "text/plain": [
       "<Figure size 576x360 with 1 Axes>"
      ]
     },
     "metadata": {
      "needs_background": "light"
     },
     "output_type": "display_data"
    }
   ],
   "source": [
    "#Grouping by type to find chain shares\n",
    "chain_types=(rest.groupby('object_type')['chain'].sum()/rest.groupby('object_type')['chain'].count()).sort_values(ascending=False)\n",
    "chain_types.columns=['object_type', 'chain_percentage']\n",
    "\n",
    "#Plotting bar plot to display chain establishments by type\n",
    "rcParams[\"figure.figsize\"] = (8,5)\n",
    "ax = sns.barplot(x=chain_types.index, y=chain_types)\n",
    "ax.set(xlabel=\"Establishment type\", ylabel = \"Chain share\", title='Chain share per establishment type')\n",
    "\n",
    "ax.bar_label(ax.containers[0], fmt='%.2f')\n",
    "\n",
    "plt.savefig('chain types.png');"
   ]
  },
  {
   "cell_type": "code",
   "execution_count": 42,
   "id": "182a1703",
   "metadata": {},
   "outputs": [
    {
     "data": {
      "image/png": "[encoded data removed]",
      "text/plain": [
       "<Figure size 720x360 with 1 Axes>"
      ]
     },
     "metadata": {
      "needs_background": "light"
     },
     "output_type": "display_data"
    }
   ],
   "source": [
    "#Plotting bar chart to display proportions of chain and nonchain establishments per type\n",
    "plt.figure(figsize = (10,5))\n",
    "category_order = ['Restaurant', 'Fast Food', 'Cafe', 'Pizza', 'Bar', 'Bakery']\n",
    "ax = sns.countplot('object_type', hue='chain', data=rest, order = category_order)\n",
    "ax.legend(title = 'Chain')\n",
    "ax.set(xlabel=\"Establishment type\", ylabel=\"Establishments\", title='Proportions of chain and nonchain establishments per type')\n",
    "\n",
    "def with_hue(plot, feature, Number_of_categories, hue_categories):\n",
    "    a = [p.get_height() for p in plot.patches]\n",
    "    patch = [p for p in plot.patches]\n",
    "    for i in range(Number_of_categories):\n",
    "        total = feature.value_counts().values[i]\n",
    "        for j in range(hue_categories):\n",
    "            percentage = '{:.1f}%'.format(100 * a[(j*Number_of_categories + i)]/total)\n",
    "            x = patch[(j*Number_of_categories + i)].get_x() + patch[(j*Number_of_categories + i)].get_width() / 2 - 0.15\n",
    "            y = patch[(j*Number_of_categories + i)].get_y() + patch[(j*Number_of_categories + i)].get_height() \n",
    "            ax.annotate(percentage, (x, y))\n",
    "            \n",
    "with_hue(ax, rest.object_type, 6, 2) \n",
    "    \n",
    "plt.savefig('chain types2.png');"
   ]
  },
  {
   "cell_type": "markdown",
   "id": "b36ea67f",
   "metadata": {},
   "source": [
    "Bakery (100%), café (61%), and fast food (57%) establishments are typically chains while pizza, restaurants and bars are mostly non-chains. "
   ]
  },
  {
   "cell_type": "markdown",
   "id": "ef1c1eeb",
   "metadata": {},
   "source": [
    "## 4) What characterizes chains: many establishments with a small number of seats or a few establishments with a lot of seats? <a id=\"6.4\"></a>"
   ]
  },
  {
   "cell_type": "code",
   "execution_count": 43,
   "id": "f690806f",
   "metadata": {},
   "outputs": [
    {
     "data": {
      "image/png": "[encoded data removed]",
      "text/plain": [
       "<Figure size 576x360 with 1 Axes>"
      ]
     },
     "metadata": {
      "needs_background": "light"
     },
     "output_type": "display_data"
    }
   ],
   "source": [
    "#Plotting histogram of number of seats in chain establishments\n",
    "chain_seats = rest.query('chain==True')\n",
    "\n",
    "rcParams[\"figure.figsize\"] = (8,5)\n",
    "ax= sns.histplot(chain_seats, x='number')\n",
    "plt.axvline(chain_seats['number'].median(), color='red', linestyle='--')\n",
    "min_ylim, max_ylim = plt.ylim()\n",
    "plt.text(chain_seats['number'].median()*1.1, max_ylim*0.92, 'Median: {:.0f}'.format(chain_seats['number'].median()))\n",
    "ax.set(xlabel=(\"Seats\"), ylabel=(\"Establishments\"), title=('Number of seats in chain establishments'))\n",
    "\n",
    "plt.savefig('chain seats.png');"
   ]
  },
  {
   "cell_type": "markdown",
   "id": "0c83adf9",
   "metadata": {},
   "source": [
    "LA chains are characterized by many establishments with a small number of seats (up to 50). The average number of seats is 25. Missing values are seen in the range of ~50-60 seats, probably the gap between 'few' and 'many' seats."
   ]
  },
  {
   "cell_type": "markdown",
   "id": "04e19e9e",
   "metadata": {},
   "source": [
    "## 5) Determine the average number of seats for each type of restaurant. On average, which type of restaurant has the greatest number of seats? Plot graphs. <a id=\"6.5\"></a>"
   ]
  },
  {
   "cell_type": "code",
   "execution_count": 44,
   "id": "e531db60",
   "metadata": {},
   "outputs": [
    {
     "data": {
      "text/html": [
       "\n",
       "<div id=\"altair-viz-a45633d9b30046358033490d8b2d152c\"></div>\n",
       "<script type=\"text/javascript\">\n",
       "  var VEGA_DEBUG = (typeof VEGA_DEBUG == \"undefined\") ? {} : VEGA_DEBUG;\n",
       "  (function(spec, embedOpt){\n",
       "    let outputDiv = document.currentScript.previousElementSibling;\n",
       "    if (outputDiv.id !== \"altair-viz-a45633d9b30046358033490d8b2d152c\") {\n",
       "      outputDiv = document.getElementById(\"altair-viz-a45633d9b30046358033490d8b2d152c\");\n",
       "    }\n",
       "    const paths = {\n",
       "      \"vega\": \"https://cdn.jsdelivr.net/npm//vega@5?noext\",\n",
       "      \"vega-lib\": \"https://cdn.jsdelivr.net/npm//vega-lib?noext\",\n",
       "      \"vega-lite\": \"https://cdn.jsdelivr.net/npm//vega-lite@4.17.0?noext\",\n",
       "      \"vega-embed\": \"https://cdn.jsdelivr.net/npm//vega-embed@6?noext\",\n",
       "    };\n",
       "\n",
       "    function maybeLoadScript(lib, version) {\n",
       "      var key = `${lib.replace(\"-\", \"\")}_version`;\n",
       "      return (VEGA_DEBUG[key] == version) ?\n",
       "        Promise.resolve(paths[lib]) :\n",
       "        new Promise(function(resolve, reject) {\n",
       "          var s = document.createElement('script');\n",
       "          document.getElementsByTagName(\"head\")[0].appendChild(s);\n",
       "          s.async = true;\n",
       "          s.onload = () => {\n",
       "            VEGA_DEBUG[key] = version;\n",
       "            return resolve(paths[lib]);\n",
       "          };\n",
       "          s.onerror = () => reject(`Error loading script: ${paths[lib]}`);\n",
       "          s.src = paths[lib];\n",
       "        });\n",
       "    }\n",
       "\n",
       "    function showError(err) {\n",
       "      outputDiv.innerHTML = `<div class=\"error\" style=\"color:red;\">${err}</div>`;\n",
       "      throw err;\n",
       "    }\n",
       "\n",
       "    function displayChart(vegaEmbed) {\n",
       "      vegaEmbed(outputDiv, spec, embedOpt)\n",
       "        .catch(err => showError(`Javascript Error: ${err.message}<br>This usually means there's a typo in your chart specification. See the javascript console for the full traceback.`));\n",
       "    }\n",
       "\n",
       "    if(typeof define === \"function\" && define.amd) {\n",
       "      requirejs.config({paths});\n",
       "      require([\"vega-embed\"], displayChart, err => showError(`Error loading script: ${err.message}`));\n",
       "    } else {\n",
       "      maybeLoadScript(\"vega\", \"5\")\n",
       "        .then(() => maybeLoadScript(\"vega-lite\", \"4.17.0\"))\n",
       "        .then(() => maybeLoadScript(\"vega-embed\", \"6\"))\n",
       "        .catch(showError)\n",
       "        .then(() => displayChart(vegaEmbed));\n",
       "    }\n",
       "  })({\"config\": {\"view\": {\"continuousWidth\": 400, \"continuousHeight\": 300}}, \"layer\": [{\"mark\": \"bar\", \"encoding\": {\"color\": {\"field\": \"object_type\", \"type\": \"nominal\"}, \"text\": {\"field\": \"object_type\", \"type\": \"nominal\"}, \"x\": {\"field\": \"object_type\", \"type\": \"nominal\"}, \"y\": {\"field\": \"number\", \"type\": \"quantitative\"}}, \"title\": \"Average seats per establishment type\", \"width\": {\"step\": 60}}, {\"mark\": {\"type\": \"text\", \"align\": \"center\", \"size\": 25}, \"encoding\": {\"text\": {\"field\": \"emoji1\", \"type\": \"nominal\"}, \"x\": {\"field\": \"object_type\", \"type\": \"nominal\"}, \"y\": {\"field\": \"number\", \"type\": \"quantitative\"}}}, {\"mark\": {\"type\": \"text\", \"dy\": 30}, \"encoding\": {\"detail\": {\"field\": \"object_type\", \"type\": \"nominal\"}, \"text\": {\"field\": \"number\", \"type\": \"quantitative\"}, \"x\": {\"field\": \"object_type\", \"type\": \"nominal\"}, \"y\": {\"field\": \"number\", \"type\": \"quantitative\"}}}], \"data\": {\"name\": \"data-1b76b2df43df8135941aaea311ae8f33\"}, \"$schema\": \"https://vega.github.io/schema/vega-lite/v4.17.0.json\", \"datasets\": {\"data-1b76b2df43df8135941aaea311ae8f33\": [{\"object_type\": \"Bakery\", \"number\": 18.0, \"emoji1\": \"\\ud83e\\udd50\"}, {\"object_type\": \"Bar\", \"number\": 28.5, \"emoji1\": \"\\ud83c\\udf77\"}, {\"object_type\": \"Cafe\", \"number\": 21.0, \"emoji1\": \"\\u2615\"}, {\"object_type\": \"Fast Food\", \"number\": 21.0, \"emoji1\": \"\\ud83c\\udf54\"}, {\"object_type\": \"Pizza\", \"number\": 19.0, \"emoji1\": \"\\ud83c\\udf55\"}, {\"object_type\": \"Restaurant\", \"number\": 29.0, \"emoji1\": \"\\ud83c\\udf7d\\ufe0f\"}]}}, {\"mode\": \"vega-lite\"});\n",
       "</script>"
      ],
      "text/plain": [
       "alt.LayerChart(...)"
      ]
     },
     "execution_count": 44,
     "metadata": {},
     "output_type": "execute_result"
    }
   ],
   "source": [
    "#Calculating average number of seats per establishment\n",
    "avg_estab_seats = rest.groupby(['object_type'])['number'].median().reset_index()\n",
    "\n",
    "#Plotting plot of seats per establishment\n",
    "diction={'Bakery':'🥐','Fast Food':'🍔','Bar':'🍷','Cafe':'☕','Pizza':'🍕','Restaurant':'🍽️'}\n",
    "avg_estab_seats['emoji1'] =avg_estab_seats['object_type'].apply(lambda x: diction.get(x))\n",
    "\n",
    "bar = alt.Chart(avg_estab_seats, title=\"Average seats per establishment type\").mark_bar().encode(\n",
    "    x='object_type',\n",
    "    y='number',\n",
    "    color='object_type',\n",
    "    text='object_type'\n",
    ").properties(width=alt.Step(60))\n",
    "\n",
    "emoji=alt.Chart(avg_estab_seats).mark_text(align='center',size=25).encode(\n",
    "    x='object_type',\n",
    "    y='number',\n",
    "    text='emoji1')\n",
    "\n",
    "text = alt.Chart(avg_estab_seats).mark_text(dy=30).encode(\n",
    "    x='object_type',\n",
    "    y='number',\n",
    "    detail='object_type',\n",
    "    text=alt.Text('number'))\n",
    "\n",
    "bar+emoji+text"
   ]
  },
  {
   "cell_type": "code",
   "execution_count": 45,
   "id": "ceeea845",
   "metadata": {},
   "outputs": [
    {
     "data": {
      "image/png": "[encoded data removed]",
      "text/plain": [
       "<Figure size 1296x216 with 6 Axes>"
      ]
     },
     "metadata": {
      "needs_background": "light"
     },
     "output_type": "display_data"
    }
   ],
   "source": [
    "#Plotting plot of seats per establishment by type\n",
    "ax = sns.FacetGrid(rest, col=\"object_type\", hue='object_type')\n",
    "ax.map(sns.barplot, \"chain\", \"number\", order=[True,False],estimator=np.median)\n",
    "ax.fig.subplots_adjust(top=0.8)\n",
    "ax.fig.suptitle('Average number of seats by establishment type', fontsize=16)\n",
    "ax.set_axis_labels(\"Chain\", \"Average seats\")\n",
    "ax.set_titles(col_template=\"{col_name}\")\n",
    "g=ax\n",
    "\n",
    "for ax in g.axes.ravel():\n",
    "      for p in ax.patches:\n",
    "            ax.annotate(format(p.get_height(), '.0f'), (p.get_x()+p.get_width()/2., p.get_height()), ha='center', va='bottom', xytext = (0,-50), textcoords = 'offset points')\n",
    "\n",
    "plt.savefig('establishment seats.png');"
   ]
  },
  {
   "cell_type": "markdown",
   "id": "15db9258",
   "metadata": {},
   "source": [
    "On average, restaurants have the most seats- 29, bars come in second with a close average of 28. People gather and spend more time in restaurants and bars. \n",
    "\n",
    "Fast food and cafes are next with a lower average of 21 seats, since people mostly order takeaway. Pizza is close with an average of 19 seats, given pizza is often delivered and then bakeries- 18, most likely due to the usually small establishment spaces, and people often taking coffee and pastries to go with no need for seats.\n",
    "\n",
    "Establishment types with more seats in:\n",
    "- Chains-  cafe, fast-food and bakery (only chains).\n",
    "- Non-chains- restaurant, bar, pizza."
   ]
  },
  {
   "cell_type": "markdown",
   "id": "24b0b43c",
   "metadata": {},
   "source": [
    "## 6) Put the data on street names from the address column in a separate column. <a id=\"6.6\"></a>"
   ]
  },
  {
   "cell_type": "code",
   "execution_count": 46,
   "id": "52d7aea3",
   "metadata": {},
   "outputs": [
    {
     "data": {
      "text/html": [
       "<div>\n",
       "<style scoped>\n",
       "    .dataframe tbody tr th:only-of-type {\n",
       "        vertical-align: middle;\n",
       "    }\n",
       "\n",
       "    .dataframe tbody tr th {\n",
       "        vertical-align: top;\n",
       "    }\n",
       "\n",
       "    .dataframe thead th {\n",
       "        text-align: right;\n",
       "    }\n",
       "</style>\n",
       "<table border=\"1\" class=\"dataframe\">\n",
       "  <thead>\n",
       "    <tr style=\"text-align: right;\">\n",
       "      <th></th>\n",
       "      <th>index</th>\n",
       "      <th>id</th>\n",
       "      <th>object_name</th>\n",
       "      <th>address</th>\n",
       "      <th>chain</th>\n",
       "      <th>object_type</th>\n",
       "      <th>number</th>\n",
       "      <th>clean_address</th>\n",
       "      <th>street</th>\n",
       "    </tr>\n",
       "  </thead>\n",
       "  <tbody>\n",
       "    <tr>\n",
       "      <th>0</th>\n",
       "      <td>0</td>\n",
       "      <td>11786</td>\n",
       "      <td>HABITAT COFFEE SHOP</td>\n",
       "      <td>3708 N EAGLE ROCK BLVD</td>\n",
       "      <td>False</td>\n",
       "      <td>Cafe</td>\n",
       "      <td>26</td>\n",
       "      <td>3708 ROCK, Los Angeles,USA</td>\n",
       "      <td>ROCK</td>\n",
       "    </tr>\n",
       "    <tr>\n",
       "      <th>1</th>\n",
       "      <td>1</td>\n",
       "      <td>11787</td>\n",
       "      <td>REILLY'S</td>\n",
       "      <td>100 WORLD WAY # 120</td>\n",
       "      <td>False</td>\n",
       "      <td>Restaurant</td>\n",
       "      <td>9</td>\n",
       "      <td>100 WORLD, Los Angeles,USA</td>\n",
       "      <td>WORLD</td>\n",
       "    </tr>\n",
       "    <tr>\n",
       "      <th>2</th>\n",
       "      <td>2</td>\n",
       "      <td>11788</td>\n",
       "      <td>STREET CHURROS</td>\n",
       "      <td>6801 HOLLYWOOD BLVD # 253</td>\n",
       "      <td>False</td>\n",
       "      <td>Fast Food</td>\n",
       "      <td>20</td>\n",
       "      <td>6801 HOLLYWOOD, Los Angeles,USA</td>\n",
       "      <td>HOLLYWOOD</td>\n",
       "    </tr>\n",
       "    <tr>\n",
       "      <th>3</th>\n",
       "      <td>3</td>\n",
       "      <td>11789</td>\n",
       "      <td>TRINITI ECHO PARK</td>\n",
       "      <td>1814 W SUNSET BLVD</td>\n",
       "      <td>False</td>\n",
       "      <td>Restaurant</td>\n",
       "      <td>22</td>\n",
       "      <td>1814 SUNSET, Los Angeles,USA</td>\n",
       "      <td>SUNSET</td>\n",
       "    </tr>\n",
       "    <tr>\n",
       "      <th>4</th>\n",
       "      <td>4</td>\n",
       "      <td>11790</td>\n",
       "      <td>POLLEN</td>\n",
       "      <td>2100 ECHO PARK AVE</td>\n",
       "      <td>False</td>\n",
       "      <td>Restaurant</td>\n",
       "      <td>20</td>\n",
       "      <td>2100 PARK, Los Angeles,USA</td>\n",
       "      <td>PARK</td>\n",
       "    </tr>\n",
       "    <tr>\n",
       "      <th>...</th>\n",
       "      <td>...</td>\n",
       "      <td>...</td>\n",
       "      <td>...</td>\n",
       "      <td>...</td>\n",
       "      <td>...</td>\n",
       "      <td>...</td>\n",
       "      <td>...</td>\n",
       "      <td>...</td>\n",
       "      <td>...</td>\n",
       "    </tr>\n",
       "    <tr>\n",
       "      <th>9643</th>\n",
       "      <td>9646</td>\n",
       "      <td>21432</td>\n",
       "      <td>HALL OF JUSTICE</td>\n",
       "      <td>217 W TEMPLE AVE</td>\n",
       "      <td>False</td>\n",
       "      <td>Restaurant</td>\n",
       "      <td>122</td>\n",
       "      <td>217 TEMPLE, Los Angeles,USA</td>\n",
       "      <td>TEMPLE</td>\n",
       "    </tr>\n",
       "    <tr>\n",
       "      <th>9644</th>\n",
       "      <td>9647</td>\n",
       "      <td>21433</td>\n",
       "      <td>FIN-MELROSE</td>\n",
       "      <td>5750 MELROSE AVE</td>\n",
       "      <td>False</td>\n",
       "      <td>Restaurant</td>\n",
       "      <td>93</td>\n",
       "      <td>5750 MELROSE, Los Angeles,USA</td>\n",
       "      <td>MELROSE</td>\n",
       "    </tr>\n",
       "    <tr>\n",
       "      <th>9645</th>\n",
       "      <td>9648</td>\n",
       "      <td>21434</td>\n",
       "      <td>JUICY WINGZ</td>\n",
       "      <td>6741 HOLLYWOOD BLVD</td>\n",
       "      <td>True</td>\n",
       "      <td>Fast Food</td>\n",
       "      <td>15</td>\n",
       "      <td>6741 HOLLYWOOD, Los Angeles,USA</td>\n",
       "      <td>HOLLYWOOD</td>\n",
       "    </tr>\n",
       "    <tr>\n",
       "      <th>9646</th>\n",
       "      <td>9649</td>\n",
       "      <td>21435</td>\n",
       "      <td>MEDIDATE COFFEE</td>\n",
       "      <td>548 S SPRING ST STE 100</td>\n",
       "      <td>False</td>\n",
       "      <td>Cafe</td>\n",
       "      <td>6</td>\n",
       "      <td>548 SPRING, Los Angeles,USA</td>\n",
       "      <td>SPRING</td>\n",
       "    </tr>\n",
       "    <tr>\n",
       "      <th>9647</th>\n",
       "      <td>9650</td>\n",
       "      <td>21436</td>\n",
       "      <td>CAFE SPROUTS</td>\n",
       "      <td>1300 S SAN PEDRO ST STE 111</td>\n",
       "      <td>True</td>\n",
       "      <td>Restaurant</td>\n",
       "      <td>19</td>\n",
       "      <td>1300 PEDRO, Los Angeles,USA</td>\n",
       "      <td>PEDRO</td>\n",
       "    </tr>\n",
       "  </tbody>\n",
       "</table>\n",
       "<p>9648 rows × 9 columns</p>\n",
       "</div>"
      ],
      "text/plain": [
       "      index     id          object_name                      address  chain  \\\n",
       "0         0  11786  HABITAT COFFEE SHOP       3708 N EAGLE ROCK BLVD  False   \n",
       "1         1  11787             REILLY'S          100 WORLD WAY # 120  False   \n",
       "2         2  11788       STREET CHURROS    6801 HOLLYWOOD BLVD # 253  False   \n",
       "3         3  11789    TRINITI ECHO PARK           1814 W SUNSET BLVD  False   \n",
       "4         4  11790               POLLEN           2100 ECHO PARK AVE  False   \n",
       "...     ...    ...                  ...                          ...    ...   \n",
       "9643   9646  21432      HALL OF JUSTICE             217 W TEMPLE AVE  False   \n",
       "9644   9647  21433          FIN-MELROSE             5750 MELROSE AVE  False   \n",
       "9645   9648  21434          JUICY WINGZ          6741 HOLLYWOOD BLVD   True   \n",
       "9646   9649  21435      MEDIDATE COFFEE      548 S SPRING ST STE 100  False   \n",
       "9647   9650  21436         CAFE SPROUTS  1300 S SAN PEDRO ST STE 111   True   \n",
       "\n",
       "     object_type  number                    clean_address     street  \n",
       "0           Cafe      26       3708 ROCK, Los Angeles,USA       ROCK  \n",
       "1     Restaurant       9       100 WORLD, Los Angeles,USA      WORLD  \n",
       "2      Fast Food      20  6801 HOLLYWOOD, Los Angeles,USA  HOLLYWOOD  \n",
       "3     Restaurant      22     1814 SUNSET, Los Angeles,USA     SUNSET  \n",
       "4     Restaurant      20       2100 PARK, Los Angeles,USA       PARK  \n",
       "...          ...     ...                              ...        ...  \n",
       "9643  Restaurant     122      217 TEMPLE, Los Angeles,USA     TEMPLE  \n",
       "9644  Restaurant      93    5750 MELROSE, Los Angeles,USA    MELROSE  \n",
       "9645   Fast Food      15  6741 HOLLYWOOD, Los Angeles,USA  HOLLYWOOD  \n",
       "9646        Cafe       6      548 SPRING, Los Angeles,USA     SPRING  \n",
       "9647  Restaurant      19      1300 PEDRO, Los Angeles,USA      PEDRO  \n",
       "\n",
       "[9648 rows x 9 columns]"
      ]
     },
     "execution_count": 46,
     "metadata": {},
     "output_type": "execute_result"
    }
   ],
   "source": [
    "#Adding uppercase street name column to rest DF\n",
    "rest['street'] = rest['clean_address'].str.split(n=1, expand=True)[1].str.split(', ', n=1, expand=True)[0]\n",
    "rest['street'] = rest['street'].str.upper()\n",
    "rest                                                                             "
   ]
  },
  {
   "cell_type": "markdown",
   "id": "904f2c71",
   "metadata": {},
   "source": [
    "All seems in order."
   ]
  },
  {
   "cell_type": "markdown",
   "id": "2747dd69",
   "metadata": {},
   "source": [
    "## 7) Plot a graph of the top ten streets by number of restaurants. <a id=\"6.7\"></a>"
   ]
  },
  {
   "cell_type": "code",
   "execution_count": 47,
   "id": "ca1a27eb",
   "metadata": {},
   "outputs": [
    {
     "data": {
      "image/png": "[encoded data removed]",
      "text/plain": [
       "<Figure size 576x360 with 1 Axes>"
      ]
     },
     "metadata": {
      "needs_background": "light"
     },
     "output_type": "display_data"
    }
   ],
   "source": [
    "#Finding top 10 streets by establishments\n",
    "rest_streets = rest.groupby('street')['id'].count().sort_values(ascending=False)\n",
    "top_streets = rest_streets.head(10)\n",
    "\n",
    "#Top 10 streets by establishments- chain/non-chain\n",
    "top_10_c = rest.query('street in @top_streets.index').pivot_table(index='street',\n",
    "                                                          values='id',columns='chain',\n",
    "                                                          aggfunc='count',fill_value=0,\n",
    "                                                          margins=True,margins_name='total').reset_index()\n",
    "\n",
    "top_10_c = top_10_c.iloc[:-1,:].sort_values(by='total',ascending=False)\n",
    "top_10_c.columns=['street','non_chain','chain','total']\n",
    "\n",
    "#Plotting top 10 streets by number of establishments- chain/non-chain\n",
    "f, ax = plt.subplots(figsize=(8,5))\n",
    "sns.barplot(x ='total', y ='street', data = top_10_c, label = 'Chain', edgecolor = 'black',color='orange')\n",
    "\n",
    "sns.barplot(x='non_chain', y='street', data=top_10_c,\n",
    "            label='Non-chain', edgecolor='black',color='tab:blue')\n",
    "\n",
    "ax.legend()\n",
    "ax.set(xlabel=('Establishments'), ylabel=('Street'), title=(\"Top 10 streets by establishments chain/non-chain\"))\n",
    "\n",
    "for container in ax.containers:\n",
    "    ax.bar_label(container,)\n",
    "\n",
    "    plt.savefig('top ten streets.png');"
   ]
  },
  {
   "cell_type": "code",
   "execution_count": 48,
   "id": "83a82a80",
   "metadata": {},
   "outputs": [
    {
     "data": {
      "image/png": "[encoded data removed]",
      "text/plain": [
       "<Figure size 576x360 with 1 Axes>"
      ]
     },
     "metadata": {
      "needs_background": "light"
     },
     "output_type": "display_data"
    }
   ],
   "source": [
    "#Now the same for cafes\n",
    "cafe=rest[(rest.object_type == \"Cafe\")]\n",
    "\n",
    "#Finding top 10 streets by number of cafes\n",
    "cafe_streets = cafe.groupby('street')['id'].count().sort_values(ascending=False)\n",
    "top_streets_cafe = cafe_streets.head(10)\n",
    "\n",
    "#Top 10 streets by cafes- chain/non-chain\n",
    "top_10_c_cafe = cafe.query('street in @top_streets_cafe.index').pivot_table(index='street',\n",
    "                                                          values='id',columns='chain',\n",
    "                                                          aggfunc='count',fill_value=0,\n",
    "                                                          margins=True,margins_name='total').reset_index()\n",
    "\n",
    "top_10_c_cafe = top_10_c_cafe.iloc[:-1,:].sort_values(by='total',ascending=False)\n",
    "top_10_c_cafe.columns=['street','non_chain','chain','total']\n",
    "\n",
    "#Plotting top 10 streets by number of cafes- chain/non-chain\n",
    "f, ax = plt.subplots(figsize=(8,5))\n",
    "sns.barplot(x ='total', y ='street', data = top_10_c_cafe, label = 'Chain', edgecolor = 'black',color='orange')\n",
    "\n",
    "sns.barplot(x='non_chain', y='street', data=top_10_c_cafe,\n",
    "            label='Non-chain', edgecolor='black',color='tab:blue')\n",
    "\n",
    "ax.legend()\n",
    "ax.set(xlabel=('Cafes'), ylabel=('Street'), title=(\"Top 10 streets by cafes chain/non-chain\"))\n",
    "\n",
    "for container in ax.containers:\n",
    "    ax.bar_label(container,)\n",
    "\n",
    "plt.savefig('top ten streets2.png');"
   ]
  },
  {
   "cell_type": "code",
   "execution_count": 49,
   "id": "a3651845",
   "metadata": {},
   "outputs": [
    {
     "data": {
      "text/plain": [
       "[('12740', 'AddressNumber'),\n",
       " ('CULVER', 'StreetName'),\n",
       " ('BLVD', 'StreetNamePostType'),\n",
       " ('#', 'OccupancyIdentifier'),\n",
       " ('B', 'OccupancyIdentifier')]"
      ]
     },
     "execution_count": 49,
     "metadata": {},
     "output_type": "execute_result"
    }
   ],
   "source": [
    "# the reviewer's cell: let'see an example:\n",
    "usaddress.parse('12740 CULVER BLVD #B')"
   ]
  },
  {
   "cell_type": "code",
   "execution_count": 50,
   "id": "91523c7a",
   "metadata": {},
   "outputs": [
    {
     "data": {
      "text/html": [
       "<div>\n",
       "<style scoped>\n",
       "    .dataframe tbody tr th:only-of-type {\n",
       "        vertical-align: middle;\n",
       "    }\n",
       "\n",
       "    .dataframe tbody tr th {\n",
       "        vertical-align: top;\n",
       "    }\n",
       "\n",
       "    .dataframe thead th {\n",
       "        text-align: right;\n",
       "    }\n",
       "</style>\n",
       "<table border=\"1\" class=\"dataframe\">\n",
       "  <thead>\n",
       "    <tr style=\"text-align: right;\">\n",
       "      <th></th>\n",
       "      <th>index</th>\n",
       "      <th>id</th>\n",
       "      <th>object_name</th>\n",
       "      <th>address</th>\n",
       "      <th>chain</th>\n",
       "      <th>object_type</th>\n",
       "      <th>number</th>\n",
       "      <th>clean_address</th>\n",
       "      <th>street</th>\n",
       "    </tr>\n",
       "  </thead>\n",
       "  <tbody>\n",
       "  </tbody>\n",
       "</table>\n",
       "</div>"
      ],
      "text/plain": [
       "Empty DataFrame\n",
       "Columns: [index, id, object_name, address, chain, object_type, number, clean_address, street]\n",
       "Index: []"
      ]
     },
     "execution_count": 50,
     "metadata": {},
     "output_type": "execute_result"
    }
   ],
   "source": [
    "# the reviewer's cell: the street name is CULVER but we used the street name with additional information:\n",
    "rest.query('street == \"CULVER BLVD #B\"')"
   ]
  },
  {
   "cell_type": "code",
   "execution_count": 51,
   "id": "9ca6ad60",
   "metadata": {
    "scrolled": true
   },
   "outputs": [
    {
     "data": {
      "text/plain": [
       "'CULVER'"
      ]
     },
     "execution_count": 51,
     "metadata": {},
     "output_type": "execute_result"
    }
   ],
   "source": [
    "# the reviewer's cell: we could use this approach:\n",
    "street_name = ''\n",
    "for i in usaddress.parse('12740 CULVER BLVD #B'):\n",
    "    if 'StreetName' == i[1]:\n",
    "        street_name += i[0] + ' '\n",
    "street_name.rstrip()"
   ]
  },
  {
   "cell_type": "markdown",
   "id": "e3d08665",
   "metadata": {},
   "source": [
    "Most establishments are on W Sunset BLVD (chain- 142, non-chain- 263), W Pico BLVD (chain- 124, non-chain- 247) and Wilshire BLVD (chain- 155, non-chain- 243). \n",
    "These top 10 streets are mostly central, having 254-405 establishments- mainly non-chain.\n",
    "\n",
    "Most cafes are on W Sunset BLVD (chain- 15, non-chain- 13), World Way (chain- 25, non-chain- 3) and Wilshire BLVD (chain- 22, non-chain- 3). \n",
    "While these cafes on BLVDs are on main urban trajectories, World Way is a central point by the airport. Both BLVDs are on the top 10 streets having 11-28 cafes."
   ]
  },
  {
   "cell_type": "markdown",
   "id": "2be28a40",
   "metadata": {},
   "source": [
    "## 8) Find the number of streets that only have one restaurant. <a id=\"6.8\"></a>"
   ]
  },
  {
   "cell_type": "code",
   "execution_count": 52,
   "id": "30cd9137",
   "metadata": {
    "scrolled": true
   },
   "outputs": [
    {
     "name": "stdout",
     "output_type": "stream",
     "text": [
      "179\n"
     ]
    },
    {
     "data": {
      "text/plain": [
       "count    453.000000\n",
       "mean      21.298013\n",
       "std       55.373206\n",
       "min        1.000000\n",
       "25%        1.000000\n",
       "50%        2.000000\n",
       "75%       12.000000\n",
       "max      405.000000\n",
       "Name: id, dtype: float64"
      ]
     },
     "execution_count": 52,
     "metadata": {},
     "output_type": "execute_result"
    }
   ],
   "source": [
    "#Query to find and count streets with only one establishment\n",
    "print(rest_streets[rest_streets == 1].count())\n",
    "\n",
    "#Describing to see total streets and distribution\n",
    "rest_streets.describe()"
   ]
  },
  {
   "cell_type": "markdown",
   "id": "b773aaff",
   "metadata": {},
   "source": [
    "179 streets (out of 453) only have one establishment- 39.514%."
   ]
  },
  {
   "cell_type": "markdown",
   "id": "b4e1dcfe",
   "metadata": {},
   "source": [
    "## 9) For streets with a lot of restaurants, look at the distribution of the number of seats. What trends can you see? <a id=\"6.9\"></a>"
   ]
  },
  {
   "cell_type": "code",
   "execution_count": 53,
   "id": "a07874e2",
   "metadata": {},
   "outputs": [
    {
     "name": "stdout",
     "output_type": "stream",
     "text": [
      "29.0\n",
      "\n",
      "count    3254.000000\n",
      "mean       45.584204\n",
      "std        47.960131\n",
      "min         1.000000\n",
      "25%        15.000000\n",
      "50%        29.000000\n",
      "75%        47.000000\n",
      "max       229.000000\n",
      "Name: number, dtype: float64\n"
     ]
    },
    {
     "data": {
      "image/png": "[encoded data removed]",
      "text/plain": [
       "<Figure size 576x360 with 1 Axes>"
      ]
     },
     "metadata": {
      "needs_background": "light"
     },
     "output_type": "display_data"
    }
   ],
   "source": [
    "#Finding top 10 streets by seats, describing distribution and calculating median\n",
    "top_seats = rest.query('street in @top_streets.index')\n",
    "print(top_seats.number.median())\n",
    "print('')\n",
    "print(top_seats['number'].describe())\n",
    "\n",
    "#Plotting top 10 streets by number of seats in descending order\n",
    "order = top_seats.groupby('street')['number'].median().sort_values(ascending=False).reset_index()['street']\n",
    "\n",
    "rcParams[\"figure.figsize\"] = (8,5)\n",
    "ax = sns.boxplot(y='street',x='number',data=top_seats, order=order) \n",
    "ax.set(ylabel=\"street\", xlabel = \"seats\", title=('Top 10 streets by seats'))\n",
    "    \n",
    "plt.savefig('top seats.png');"
   ]
  },
  {
   "cell_type": "code",
   "execution_count": 54,
   "id": "fdd9f05c",
   "metadata": {},
   "outputs": [
    {
     "data": {
      "image/png": "[encoded data removed]",
      "text/plain": [
       "<Figure size 576x360 with 1 Axes>"
      ]
     },
     "metadata": {
      "needs_background": "light"
     },
     "output_type": "display_data"
    }
   ],
   "source": [
    "#Plotting histogram of number of seats in establishments on top streets\n",
    "plt.figure(figsize = (8,5))\n",
    "sns.histplot(top_seats['number'])\n",
    "plt.axvline(top_seats['number'].median(),color='red', linestyle='--')\n",
    "min_ylim, max_ylim = plt.ylim()\n",
    "plt.text(top_seats['number'].median()*1.1, max_ylim*0.92, 'Median: {:.0f}'.format(top_seats['number'].median()))\n",
    "ax.set(xlabel=(\"Seats\"), ylabel=(\"Establishments\"), title='Number of seats in establishments on top streets')\n",
    "\n",
    "plt.savefig('top seats2.png');"
   ]
  },
  {
   "cell_type": "markdown",
   "id": "b36c2093",
   "metadata": {},
   "source": [
    "Wilshire is leading in average restaurant capacity size, followed by Hollywood and Sunset. Most restaurants have almost the same median (29) and inter-quartile range (15-47), yet Hollywood and Wilshire have almost double the IQR with slightly higher median values.\n",
    "\n",
    "Establishments on top streets are characterized by a small number of seats (up to 50). The average number of seats is 29. Missing values are seen in the range of ~50-60 seats, probably the gap between 'few' and 'many' seats.\n",
    "The trend is the same as for chain establishments with a higher average by 4 seats."
   ]
  },
  {
   "cell_type": "markdown",
   "id": "6d42192b",
   "metadata": {},
   "source": [
    "# Conclusion <a id=\"7\"></a>"
   ]
  },
  {
   "cell_type": "markdown",
   "id": "ca57ae36",
   "metadata": {},
   "source": [
    "This project provides actionable insights for investors on the proposed robot-run cafe.\n",
    "\n",
    "In this project, we followed the methodology as follows:\n",
    "- Open the date file and study the general information.\n",
    "- Data preprocessing.\n",
    "- Make calculations as required for the analysis.\n",
    "- Data analysis.\n",
    "- Plot graphs and then interpret the results.\n",
    "- Create presentation.\n",
    "- And now, final conclusion.\n",
    "\n",
    "Findings:\n",
    "- 4.5% of investigated establishments in LA are cafes.\n",
    "- Overall 61.9% of establishments in LA are non-chain, while 38.1% are chains.\n",
    "- Cafes in LA: 61.1% are chains, while 38.9% are non-chain.\n",
    "- On average, cafes have 21 seats, out of which, cafe chain- 22, cafe non-chain- 19.\n",
    "- Chain and non-chain cafes don't correlate directly with the order of leading streets.\n",
    "- Most cafes are on W Sunset BLVD (28), World Way (28) and Wilshire BLVD (25). \n",
    "\n",
    "Overall conclusion:\n",
    "Cafes in LA are mostly chains, with an average of 21 seats on main BLVDs.\n",
    "\n",
    "Recommendations:\n",
    "- LA is a spread-out city, mostly traveled by vehicles. Therefore, a recommendation for location should take into consideration on curb pedestrian traffic and proximity to points-of-interest such as business districts, shopping centers, transportation hubs and central stations, parks, and main BLVDs.\n",
    "\n",
    "- Also, we would recommend on-the-go service approach, that is having no seats or perhaps a long bench fronting the street, which saves on space and maintenance. \n",
    "\n",
    "- Robot-run cafe is a global trend as demonstrated in Europe and Asia (for example: <https://www.google.com/url?sa=t&rct=j&q=&esrc=s&source=web&cd=&ved=2ahUKEwjv2pr5_uP1AhViQfEDHfmiCvwQFnoECAYQAQ&url=https%3A%2F%2Fwww.worldcoffeeportal.com%2FLatest%2FNews%2F2021%2FMay%2FThe-UK-s-premium-automated-coffee-sector-doubles-i&usg=AOvVaw37WAZZTjG0mlnPqf6okiKY>). Hence, we would pilot a single cafe with a potential end goal for growing into a chain and/or franchise.\n",
    "\n",
    "- We would recommend to further expand to support drive-thru window and drone/Uber delivery services."
   ]
  },
  {
   "cell_type": "markdown",
   "id": "370d110a",
   "metadata": {},
   "source": [
    "# Presentation <a id=\"8\"></a>"
   ]
  },
  {
   "cell_type": "markdown",
   "id": "e7d360f4",
   "metadata": {},
   "source": [
    "<https://drive.google.com/file/d/1ibdiYY6IUjMB5vS71r0vwA2vI_4lOkG-/view?usp=sharing>"
   ]
  }
 ],
 "metadata": {
  "ExecuteTimeLog": [
   {
    "duration": 587845,
    "start_time": "2022-02-06T15:27:49.093Z"
   },
   {
    "duration": 29,
    "start_time": "2022-02-06T15:37:36.940Z"
   },
   {
    "duration": 18,
    "start_time": "2022-02-06T15:37:36.971Z"
   },
   {
    "duration": 23,
    "start_time": "2022-02-06T15:37:36.990Z"
   },
   {
    "duration": 6,
    "start_time": "2022-02-06T15:37:37.015Z"
   },
   {
    "duration": 11,
    "start_time": "2022-02-06T15:37:37.022Z"
   },
   {
    "duration": 37,
    "start_time": "2022-02-06T15:37:37.035Z"
   },
   {
    "duration": 32,
    "start_time": "2022-02-06T15:37:37.075Z"
   },
   {
    "duration": 1319,
    "start_time": "2022-02-06T15:37:37.108Z"
   },
   {
    "duration": 4,
    "start_time": "2022-02-06T15:37:38.429Z"
   },
   {
    "duration": 1293,
    "start_time": "2022-02-06T15:37:38.434Z"
   },
   {
    "duration": 411,
    "start_time": "2022-02-06T15:37:39.729Z"
   },
   {
    "duration": 667,
    "start_time": "2022-02-06T15:37:40.142Z"
   },
   {
    "duration": 504,
    "start_time": "2022-02-06T15:37:40.811Z"
   },
   {
    "duration": -1614,
    "start_time": "2022-02-06T15:37:42.931Z"
   },
   {
    "duration": -1617,
    "start_time": "2022-02-06T15:37:42.935Z"
   },
   {
    "duration": -1621,
    "start_time": "2022-02-06T15:37:42.940Z"
   },
   {
    "duration": -1623,
    "start_time": "2022-02-06T15:37:42.942Z"
   },
   {
    "duration": -1624,
    "start_time": "2022-02-06T15:37:42.944Z"
   },
   {
    "duration": -1624,
    "start_time": "2022-02-06T15:37:42.945Z"
   },
   {
    "duration": -1625,
    "start_time": "2022-02-06T15:37:42.947Z"
   },
   {
    "duration": -1626,
    "start_time": "2022-02-06T15:37:42.949Z"
   },
   {
    "duration": -1629,
    "start_time": "2022-02-06T15:37:42.952Z"
   },
   {
    "duration": -1630,
    "start_time": "2022-02-06T15:37:42.954Z"
   },
   {
    "duration": 217612,
    "start_time": "2022-02-06T18:18:14.830Z"
   },
   {
    "duration": -2206,
    "start_time": "2022-02-06T18:21:54.652Z"
   },
   {
    "duration": -2210,
    "start_time": "2022-02-06T18:21:54.658Z"
   },
   {
    "duration": -2212,
    "start_time": "2022-02-06T18:21:54.661Z"
   },
   {
    "duration": -2226,
    "start_time": "2022-02-06T18:21:54.677Z"
   },
   {
    "duration": -2233,
    "start_time": "2022-02-06T18:21:54.685Z"
   },
   {
    "duration": -2235,
    "start_time": "2022-02-06T18:21:54.689Z"
   },
   {
    "duration": -2242,
    "start_time": "2022-02-06T18:21:54.697Z"
   },
   {
    "duration": -2252,
    "start_time": "2022-02-06T18:21:54.709Z"
   },
   {
    "duration": -2257,
    "start_time": "2022-02-06T18:21:54.715Z"
   },
   {
    "duration": -2258,
    "start_time": "2022-02-06T18:21:54.717Z"
   },
   {
    "duration": -2259,
    "start_time": "2022-02-06T18:21:54.719Z"
   },
   {
    "duration": -2259,
    "start_time": "2022-02-06T18:21:54.720Z"
   },
   {
    "duration": -2259,
    "start_time": "2022-02-06T18:21:54.722Z"
   },
   {
    "duration": -2262,
    "start_time": "2022-02-06T18:21:54.726Z"
   },
   {
    "duration": -2268,
    "start_time": "2022-02-06T18:21:54.733Z"
   },
   {
    "duration": -2269,
    "start_time": "2022-02-06T18:21:54.735Z"
   },
   {
    "duration": -2270,
    "start_time": "2022-02-06T18:21:54.738Z"
   },
   {
    "duration": -2271,
    "start_time": "2022-02-06T18:21:54.740Z"
   },
   {
    "duration": -2272,
    "start_time": "2022-02-06T18:21:54.742Z"
   },
   {
    "duration": -2272,
    "start_time": "2022-02-06T18:21:54.743Z"
   },
   {
    "duration": -2273,
    "start_time": "2022-02-06T18:21:54.745Z"
   },
   {
    "duration": -2272,
    "start_time": "2022-02-06T18:21:54.746Z"
   },
   {
    "duration": -2273,
    "start_time": "2022-02-06T18:21:54.748Z"
   },
   {
    "duration": -2273,
    "start_time": "2022-02-06T18:21:54.749Z"
   },
   {
    "duration": -2274,
    "start_time": "2022-02-06T18:21:54.751Z"
   },
   {
    "duration": -2274,
    "start_time": "2022-02-06T18:21:54.752Z"
   }
  ],
  "kernelspec": {
   "display_name": "Python 3",
   "language": "python",
   "name": "python3"
  },
  "language_info": {
   "codemirror_mode": {
    "name": "ipython",
    "version": 3
   },
   "file_extension": ".py",
   "mimetype": "text/x-python",
   "name": "python",
   "nbconvert_exporter": "python",
   "pygments_lexer": "ipython3",
   "version": "3.8.8"
  },
  "toc": {
   "base_numbering": 1,
   "nav_menu": {},
   "number_sections": true,
   "sideBar": true,
   "skip_h1_title": true,
   "title_cell": "Table of Contents",
   "title_sidebar": "Contents",
   "toc_cell": false,
   "toc_position": {},
   "toc_section_display": true,
   "toc_window_display": true
  }
 },
 "nbformat": 4,
 "nbformat_minor": 5
}
